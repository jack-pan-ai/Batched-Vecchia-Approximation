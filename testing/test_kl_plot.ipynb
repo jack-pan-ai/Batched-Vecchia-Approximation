{
 "cells": [
  {
   "cell_type": "code",
   "execution_count": null,
   "metadata": {},
   "outputs": [],
   "source": [
    "import numpy as np\n",
    "import pandas as pd\n",
    "import os"
   ]
  },
  {
   "cell_type": "code",
   "execution_count": null,
   "metadata": {},
   "outputs": [],
   "source": [
    "params = pd.read_csv('./params.txt', sep = \" \", header=None).to_numpy()\n",
    "num_exps_, num_params_ = params.shape \n",
    "params = params.tolist()\n",
    "for i in range(num_exps_):\n",
    "    for j in range(num_params_ ):\n",
    "        if j == (num_params_ - 1):\n",
    "            params[i][j] = str(int(params[i][j]))\n",
    "        else:\n",
    "            params[i][j] = f'{params[i][j]:.6f}'\n",
    "params"
   ]
  },
  {
   "cell_type": "code",
   "execution_count": null,
   "metadata": {},
   "outputs": [],
   "source": [
    "orderings = ['morton', 'random']\n",
    "cs_set = [10, 30, 60, 90, 120, 150]\n",
    "filename_template = 'locs_180000_cs_{}_seed_0_kernel_{}:{}:{}_{}'\n",
    "# filename_template = 'locs_260000_cs_{}_seed_0_kernel_{}:{}:{}_{}'\n",
    "file_folder = './log'\n",
    "\n",
    "# 180k\n",
    "dense_llh = [13614.03839, 421266.6126, 798231.245, 111897.1159, 715762.3047, 1288265.582, 200084.6805, 980263.2842, 1728973.293]\n",
    "# 260k\n",
    "# dense_llh = [13614.03839, 421266.6126, 798231.245, 111897.1159, 715762.3047, 1288265.582, 200084.6805, 980263.2842, 1728973.293]\n",
    "allh_morton = np.zeros([num_exps_, len(cs_set)])\n",
    "allh_random = np.zeros([num_exps_, len(cs_set)])\n",
    "\n",
    "\n",
    "for i, param in enumerate(params):\n",
    "    for j, cs in enumerate(cs_set):\n",
    "        for ord in orderings:\n",
    "            filename = filename_template.format(cs, param[0], param[1], param[2], ord)\n",
    "            file_path = os.path.join(file_folder, filename)\n",
    "            try:\n",
    "                with open(file_path, 'r') as file:\n",
    "                    # Use a loop to skip the first line\n",
    "                    file.readline()  # Read and discard the first line\n",
    "                    # Now, read the second line\n",
    "                    second_line = file.readline()\n",
    "                    llh = dense_llh[i] - float(second_line.split(\",\")[4])\n",
    "                    if ord == 'morton':\n",
    "                        allh_morton[i, j] = llh\n",
    "                    else:\n",
    "                        allh_random[i, j] = llh\n",
    "            except FileNotFoundError:\n",
    "                print(f\"File {filename} not found\")"
   ]
  },
  {
   "cell_type": "code",
   "execution_count": null,
   "metadata": {},
   "outputs": [],
   "source": [
    "import matplotlib.pyplot as plt\n",
    "import numpy as np\n",
    "\n",
    "fig_dir = './fig'\n",
    "if not os.path.exists(fig_dir):\n",
    "    os.mkdir(fig_dir)\n",
    "\n",
    "def plot_kl(x, y1, y2, info):\n",
    "    fig, ax = plt.subplots(figsize=(6, 4.8))\n",
    "    ax.plot(x[1:], y1[1:], label='Morton', color='blue', linewidth=2, linestyle='-.', marker='o', markersize=6)\n",
    "    ax.plot(x[1:], y2[1:], label='Random', color='green', linewidth=2, linestyle='--', marker='s', markersize=6)\n",
    "    ax.set_xlabel('The size of conditioning set', fontsize=11)\n",
    "    ax.set_ylabel('KL divergence', fontsize=11)\n",
    "    # ax.set_yscale('log')\n",
    "    ax.legend(fontsize=12, shadow=True, frameon=True)\n",
    "    ax.grid(True, linestyle='--', alpha=0.6)\n",
    "    ax.axhline(y=0, color='gray', linestyle='--', linewidth=0.8)\n",
    "    plt.tight_layout()\n",
    "    plt.savefig(f'./fig/{info[1]}_{info[2]}.pdf')\n",
    "    # plt.show()\n",
    "\n",
    "for i in range(num_exps_):\n",
    "    plot_kl(cs_set, allh_morton[i, :], allh_random[i, :], params[i])"
   ]
  },
  {
   "cell_type": "code",
   "execution_count": null,
   "metadata": {},
   "outputs": [],
   "source": []
  },
  {
   "cell_type": "code",
   "execution_count": null,
   "metadata": {},
   "outputs": [],
   "source": []
  }
 ],
 "metadata": {
  "kernelspec": {
   "display_name": "Python 3.9.16 ('base')",
   "language": "python",
   "name": "python3"
  },
  "language_info": {
   "codemirror_mode": {
    "name": "ipython",
    "version": 3
   },
   "file_extension": ".py",
   "mimetype": "text/x-python",
   "name": "python",
   "nbconvert_exporter": "python",
   "pygments_lexer": "ipython3",
   "version": "3.10.9"
  },
  "orig_nbformat": 4,
  "vscode": {
   "interpreter": {
    "hash": "185e5c47242a5ceaa23e29ada14173afc2d86b943e6603ddddbe3fb4d7ad104d"
   }
  }
 },
 "nbformat": 4,
 "nbformat_minor": 2
}
