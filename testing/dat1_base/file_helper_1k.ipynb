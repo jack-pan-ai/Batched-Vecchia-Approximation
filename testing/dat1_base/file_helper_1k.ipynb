{
 "cells": [
  {
   "cell_type": "code",
   "execution_count": null,
   "metadata": {},
   "outputs": [],
   "source": [
    "bv = True # batched vecchia or gpgp\n",
    "dep = True # vecchia or independent block for bv\n",
    "grouping = False # use grouping in gpgp or not\n",
    "knn = False # use knn in gpgp or not"
   ]
  },
  {
   "cell_type": "markdown",
   "metadata": {},
   "source": [
    "# 1. Prepare the folders"
   ]
  },
  {
   "cell_type": "code",
   "execution_count": null,
   "metadata": {},
   "outputs": [],
   "source": [
    "import os\n",
    "\n",
    "def fold_create(folder_name):\n",
    "    if not os.path.exists(folder_name):\n",
    "        os.makedirs(folder_name)\n",
    "        print(f\"Folder '{folder_name}' created successfully.\")\n",
    "    else:\n",
    "        print(f\"Folder '{folder_name}' already exists.\")"
   ]
  },
  {
   "cell_type": "code",
   "execution_count": null,
   "metadata": {},
   "outputs": [],
   "source": [
    "import nbformat\n",
    "import shutil\n",
    "import subprocess\n",
    "\n",
    "def modify_notebook(filename, code_block_index, new_code):\n",
    "    # Load the Jupyter Notebook file\n",
    "    with open(filename, 'r') as f:\n",
    "        notebook = nbformat.read(f, as_version=nbformat.NO_CONVERT)\n",
    "\n",
    "    # Access the code block and modify its content\n",
    "    notebook.cells[code_block_index].source = new_code\n",
    "\n",
    "    # Save the modified notebook to a new file\n",
    "    new_filename = 'modified_notebook.ipynb'\n",
    "    with open(new_filename, 'w') as f:\n",
    "        nbformat.write(notebook, f)\n",
    "\n",
    "    # Replace the old file with the new file\n",
    "    shutil.move(new_filename, filename)\n",
    "    # Run the modified notebook\n",
    "    subprocess.run(['jupyter', 'nbconvert', '--execute', '--inplace', '--to', 'notebook', filename])\n",
    "\n"
   ]
  },
  {
   "cell_type": "markdown",
   "metadata": {},
   "source": [
    "### BV or GpGp"
   ]
  },
  {
   "cell_type": "code",
   "execution_count": null,
   "metadata": {},
   "outputs": [],
   "source": [
    "range = [0.03, 0.1, 0.3]\n",
    "alpha = [0.5, 1.5]\n",
    "\n",
    "for ra in range:\n",
    "    for al in alpha:\n",
    "        # train helper file copy and modify \n",
    "        if bv: \n",
    "            # data and fold create\n",
    "            fold_create(f\"data_1k_{ra}_{al}_bv\")\n",
    "            os.system(f\"cp -r ./synData/synthetic_ds_{ra}_{al} ./data_1k_{ra}_{al}_bv/synthetic_ds\")\n",
    "            if dep:\n",
    "                os.system(f\"cp ./train_helper_1k_base.ipynb ./data_1k_{ra}_{al}_bv/train_helper_1K_{ra}_{al}_bv_dependent.ipynb\")\n",
    "                ## Specify the filename, code block index, and new code & Call the function to modify the notebook\n",
    "                jupyter_path = f\"./data_1k_{ra}_{al}_bv/train_helper_1K_{ra}_{al}_bv_dependent.ipynb\"\n",
    "                new_code = f\"params = [1.0, {ra}, {al}]\\nbv = True\\ndep = True\\nknn = False\\ngrouping = False\"        \n",
    "                modify_notebook(jupyter_path, 2, new_code)\n",
    "                os.system(f\"mv ./bash_bv_base.sh ./bash_bv_dependent.sh\")\n",
    "            else:\n",
    "                os.system(f\"cp ./train_helper_1k_base.ipynb ./data_1k_{ra}_{al}_bv/train_helper_1K_{ra}_{al}_bv_independent.ipynb\")\n",
    "                ## Specify the filename, code block index, and new code & Call the function to modify the notebook\n",
    "                jupyter_path = f\"./data_1k_{ra}_{al}_bv/train_helper_1K_{ra}_{al}_bv_independent.ipynb\"\n",
    "                new_code = f\"params = [1.0, {ra}, {al}]\\nbv = True\\ndep = False\\nknn = False\\ngrouping = False\"        \n",
    "                modify_notebook(jupyter_path, 2, new_code)\n",
    "                os.system(f\"mv ./bash_bv_base.sh ./bash_bv_independent.sh\")\n",
    "        else:\n",
    "            fold_create(f\"data_1k_{ra}_{al}_gpgp\")\n",
    "            os.system(f\"cp -r ./synData/synthetic_ds_{ra}_{al} ./data_1k_{ra}_{al}_gpgp/synthetic_ds\")\n",
    "            os.system(f\"cp ./train_helper_1k_base.R ./data_1k_{ra}_{al}_gpgp/train_helper_1k_base.R\")\n",
    "            if grouping:\n",
    "                if knn:\n",
    "                    os.system(f\"cp ./train_helper_1k_base.ipynb ./data_1k_{ra}_{al}_gpgp/train_helper_1K_{ra}_{al}_gpgp_knn_grouping.ipynb\")\n",
    "                    ## Specify the filename, code block index, and new code & Call the function to modify the notebook\n",
    "                    jupyter_path = f\"./data_1k_{ra}_{al}_gpgp/train_helper_1K_{ra}_{al}_gpgp_knn_grouping.ipynb\"\n",
    "                    new_code = f\"params = [1.0, {ra}, {al}]\\nbv = False\\ndep = True\\nknn = True\\ngrouping = True\"        \n",
    "                    modify_notebook(jupyter_path, 2, new_code)\n",
    "                else:\n",
    "                    os.system(f\"cp ./train_helper_1k_base.ipynb ./data_1k_{ra}_{al}_gpgp/train_helper_1K_{ra}_{al}_gpgp_knn.ipynb\")\n",
    "                    ## Specify the filename, code block index, and new code & Call the function to modify the notebook\n",
    "                    jupyter_path = f\"./data_1k_{ra}_{al}_gpgp/train_helper_1K_{ra}_{al}_gpgp_knn.ipynb\"\n",
    "                    new_code = f\"params = [1.0, {ra}, {al}]\\nbv = False\\ndep = True\\nknn = False\\ngrouping = True\"        \n",
    "                    modify_notebook(jupyter_path, 2, new_code)"
   ]
  },
  {
   "cell_type": "markdown",
   "metadata": {},
   "source": [
    "### run after training your model"
   ]
  },
  {
   "cell_type": "code",
   "execution_count": null,
   "metadata": {},
   "outputs": [],
   "source": [
    "# import nbformat\n",
    "# import shutil\n",
    "# import subprocess\n",
    "\n",
    "# def run_notebook(filename):\n",
    "#     # Run the modified notebook\n",
    "#     subprocess.run(['jupyter', 'nbconvert', '--execute', '--inplace', '--to', 'notebook', filename])\n",
    "\n",
    "# range = [0.03, 0.1, 0.3]\n",
    "# alpha = [0.5, 1.5]\n",
    "# bv = True\n",
    "# dep = True\n",
    "# grouping = False\n",
    "# knn = False\n",
    "\n",
    "# for ra in range:\n",
    "#     for al in alpha:\n",
    "#         # train helper file copy and modify \n",
    "#         if bv: \n",
    "#             if dep:\n",
    "#                 jupyter_path = f\"./data_1k_{ra}_{al}_bv/train_helper_1K_{ra}_{al}_bv_dependent.ipynb\"\n",
    "#             else:\n",
    "#                 jupyter_path = f\"./data_1k_{ra}_{al}_bv/train_helper_1K_{ra}_{al}_bv_independent.ipynb\"\n",
    "#         else:\n",
    "#             if grouping:\n",
    "#                 jupyter_path = f\"./data_1k_{ra}_{al}_gpgp/train_helper_1K_{ra}_{al}_gpgp_knn_grouping.ipynb\"\n",
    "#             elif knn:\n",
    "#                 jupyter_path = f\"./data_1k_{ra}_{al}_gpgp/train_helper_1K_{ra}_{al}_gpgp_knn.ipynb\"\n",
    "#             else:\n",
    "#                 jupyter_path = f\"./data_1k_{ra}_{al}_gpgp/train_helper_1K_{ra}_{al}_gpgp.ipynb\"\n",
    "#         run_notebook(jupyter_path)"
   ]
  }
 ],
 "metadata": {
  "kernelspec": {
   "display_name": "Python 3.9.16 ('base')",
   "language": "python",
   "name": "python3"
  },
  "language_info": {
   "codemirror_mode": {
    "name": "ipython",
    "version": 3
   },
   "file_extension": ".py",
   "mimetype": "text/x-python",
   "name": "python",
   "nbconvert_exporter": "python",
   "pygments_lexer": "ipython3",
   "version": "3.9.16"
  },
  "orig_nbformat": 4,
  "vscode": {
   "interpreter": {
    "hash": "185e5c47242a5ceaa23e29ada14173afc2d86b943e6603ddddbe3fb4d7ad104d"
   }
  }
 },
 "nbformat": 4,
 "nbformat_minor": 2
}
