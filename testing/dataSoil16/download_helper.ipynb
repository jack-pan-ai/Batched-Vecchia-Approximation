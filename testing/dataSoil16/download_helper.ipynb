{
 "cells": [
  {
   "cell_type": "code",
   "execution_count": null,
   "metadata": {},
   "outputs": [],
   "source": [
    "import requests\n",
    "from bs4 import BeautifulSoup\n",
    "\n",
    "url = 'https://ecrc.github.io/exageostat/md_docs_examples.html'\n",
    "password = 'ecrc1234'\n",
    "\n",
    "# Send a GET request to the URL with authentication\n",
    "response = requests.get(url, auth=('', password))\n",
    "\n",
    "# Check if the response was successful (status code 200)\n",
    "if response.status_code == 200:\n",
    "    # If successful, parse the HTML content with BeautifulSoup\n",
    "    soup = BeautifulSoup(response.content, 'html.parser')\n",
    "    # Find all the links on the page\n",
    "    links = soup.find_all('a')\n",
    "    # Loop over the links and download the datasets\n",
    "    for link in links:\n",
    "        href = link.get('href')\n",
    "        if href and href.endswith('.nc'):\n",
    "            # If the link ends with '.nc', download the dataset\n",
    "            dataset_url = url.rsplit('/', 1)[0] + '/' + href\n",
    "            response = requests.get(dataset_url, auth=('', password))\n",
    "            # Write the file to disk with the same name as the link\n",
    "            with open(href, 'wb') as f:\n",
    "                f.write(response.content)\n",
    "else:\n",
    "    print('Authentication failed.')\n"
   ]
  }
 ],
 "metadata": {
  "kernelspec": {
   "display_name": "Python 3.9.16 ('base')",
   "language": "python",
   "name": "python3"
  },
  "language_info": {
   "name": "python",
   "version": "3.9.16"
  },
  "orig_nbformat": 4,
  "vscode": {
   "interpreter": {
    "hash": "185e5c47242a5ceaa23e29ada14173afc2d86b943e6603ddddbe3fb4d7ad104d"
   }
  }
 },
 "nbformat": 4,
 "nbformat_minor": 2
}
