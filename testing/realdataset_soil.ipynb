{
 "cells": [
  {
   "cell_type": "markdown",
   "metadata": {},
   "source": [
    "## Data processing"
   ]
  },
  {
   "cell_type": "code",
   "execution_count": null,
   "metadata": {},
   "outputs": [],
   "source": [
    "import pandas as pd\n",
    "import numpy as np\n",
    "from sklearn.model_selection import train_test_split\n",
    "import os\n",
    "\n",
    "np.random.seed(42)\n",
    "\n",
    "def process_and_split_data(meta_file, observation_file, train_ratio, test_ratio):\n",
    "    \"\"\"\n",
    "    Process the datasets and split them into training and testing subsets separately for meta and observation data.\n",
    "\n",
    "    :param meta_file: File path for the METAinfo dataset.\n",
    "    :param observation_file: File path for the ppt.complete.Y001 dataset.\n",
    "    :param train_ratio: Percentage of the data to be used for training (default 10%).\n",
    "    :param test_ratio: Percentage of the data to be used for testing (default 1%).\n",
    "    :return: None\n",
    "    \"\"\"\n",
    "    # Read the datasets without headers\n",
    "    meta_data = pd.read_csv(meta_file, header=None)\n",
    "    observation_data = pd.read_csv(observation_file, header=None)\n",
    "    \n",
    "    # Assuming meta_data and observation_data are of the same length\n",
    "    n_rows = len(meta_data)\n",
    "\n",
    "    # Generate random indices\n",
    "    all_indices = np.arange(n_rows)\n",
    "    train_and_test_indices = np.random.choice(all_indices, size=int((train_ratio + test_ratio) * n_rows), replace=False)\n",
    "\n",
    "    # Split indices into training and testing\n",
    "    train_indices, test_indices = train_test_split(train_and_test_indices, test_size=test_ratio / (train_ratio + test_ratio), random_state=42)\n",
    "\n",
    "    # Sample data using the same indices for both datasets\n",
    "    meta_train = meta_data.iloc[train_indices]\n",
    "    meta_test = meta_data.iloc[test_indices]\n",
    "    observation_train = observation_data.iloc[train_indices]\n",
    "    observation_test = observation_data.iloc[test_indices]\n",
    "\n",
    "    # # Sample 11% of each dataset\n",
    "    # meta_sample = meta_data.sample(frac=train_ratio + test_ratio)\n",
    "    # observation_sample = observation_data.sample(frac=train_ratio + test_ratio)\n",
    "\n",
    "    # # Split the sample data into 10% training and 1% testing for both datasets\n",
    "    # meta_train, meta_test = train_test_split(meta_sample, test_size=test_ratio / (train_ratio + test_ratio), random_state = 42)\n",
    "    # observation_train, observation_test = train_test_split(observation_sample, test_size=test_ratio / (train_ratio + test_ratio), random_state = 42)\n",
    "\n",
    "    # Save the split data\n",
    "    meta_train.to_csv(\n",
    "        os.path.join(data_folder, 'meta_train_' + str(ratio)), \n",
    "        index=False, header=False)\n",
    "    print(meta_train.shape)\n",
    "    meta_test.to_csv(\n",
    "        os.path.join(data_folder, 'meta_test_' + str(ratio)), \n",
    "        index=False, header=False)\n",
    "    print(meta_test.shape)\n",
    "    observation_train.to_csv(\n",
    "        os.path.join(data_folder, 'observation_train_' + str(ratio)), \n",
    "        index=False, header=False)\n",
    "    observation_test.to_csv(\n",
    "        os.path.join(data_folder, 'observation_test_'+ str(ratio)), \n",
    "        index=False, header=False)\n",
    "\n",
    "    print(\"Data processing complete. Files saved for both meta and observation datasets.\")\n",
    "\n",
    "data_folder = './soil_moist/'\n",
    "ratio = 0.25\n",
    "# Example usage\n",
    "process_and_split_data(\n",
    "    os.path.join(data_folder, 'METAinfo'), \n",
    "    os.path.join(data_folder,'ppt.complete.Y001'),\n",
    "    ratio, ratio * 0.1\n",
    ")\n",
    "ratio = 0.125\n",
    "# Example usage\n",
    "process_and_split_data(\n",
    "    os.path.join(data_folder, 'METAinfo'), \n",
    "    os.path.join(data_folder,'ppt.complete.Y001'),\n",
    "    ratio, ratio * 0.1\n",
    ")"
   ]
  },
  {
   "cell_type": "code",
   "execution_count": null,
   "metadata": {},
   "outputs": [],
   "source": [
    "import numpy as np\n",
    "import matplotlib.pyplot as plt\n",
    "import pandas as pd\n",
    "\n",
    "def plot_subplots_with_scatter(train_meta_file, train_obs_file, test_meta_file, test_obs_file):\n",
    "    # Load the data\n",
    "    train_meta = pd.read_csv(train_meta_file, header=None)\n",
    "    train_obs = pd.read_csv(train_obs_file, header=None)\n",
    "    test_meta = pd.read_csv(test_meta_file, header=None)\n",
    "    test_obs = pd.read_csv(test_obs_file, header=None)\n",
    "    \n",
    "    # Convert data to numpy arrays if they're not already\n",
    "    all_train_data = np.array(train_meta)\n",
    "    all_train_obs = np.array(train_obs).flatten()  # Flatten in case the observations are in a 2D array\n",
    "    all_test_data = np.array(test_meta)\n",
    "    all_test_obs = np.array(test_obs).flatten()\n",
    "    \n",
    "    # Create subplots\n",
    "    fig, axs = plt.subplots(1, 1, figsize=(14, 7))\n",
    "    \n",
    "    # Scatter plot for training data\n",
    "    scatter_train = axs.scatter(all_train_data[:, 1] + 180, all_train_data[:, 0], c=all_train_obs, \n",
    "                            #  vmin=np.min(all_train_obs), vmax=np.max(all_train_obs), \n",
    "                             cmap=\"jet\", s=3)\n",
    "    fig.colorbar(scatter_train, ax=axs)\n",
    "    # axs.set_title('Training Data')\n",
    "    axs.set_xlabel('Longitude')\n",
    "    axs.set_ylabel('Latitude')\n",
    "    \n",
    "    plt.tight_layout()\n",
    "    plt.show()\n",
    "\n",
    "# Example usage\n",
    "# plot_subplots_with_scatter('meta_train.csv', 'observation_train.csv', 'meta_test.csv', 'observation_test.csv')"
   ]
  },
  {
   "cell_type": "code",
   "execution_count": null,
   "metadata": {},
   "outputs": [],
   "source": [
    "plot_subplots_with_scatter(\n",
    "    './soil_moist/meta_train_0.25', \n",
    "    './soil_moist/observation_train_0.25',\n",
    "    './soil_moist/meta_test_0.25', \n",
    "    './soil_moist/observation_test_0.25'   \n",
    ")"
   ]
  },
  {
   "cell_type": "markdown",
   "metadata": {},
   "source": [
    "## Run the experiment with real dataset"
   ]
  }
 ],
 "metadata": {
  "kernelspec": {
   "display_name": "Python 3.10.9 ('base')",
   "language": "python",
   "name": "python3"
  },
  "language_info": {
   "codemirror_mode": {
    "name": "ipython",
    "version": 3
   },
   "file_extension": ".py",
   "mimetype": "text/x-python",
   "name": "python",
   "nbconvert_exporter": "python",
   "pygments_lexer": "ipython3",
   "version": "3.9.18"
  },
  "orig_nbformat": 4,
  "vscode": {
   "interpreter": {
    "hash": "185e5c47242a5ceaa23e29ada14173afc2d86b943e6603ddddbe3fb4d7ad104d"
   }
  }
 },
 "nbformat": 4,
 "nbformat_minor": 2
}
